{
 "cells": [
  {
   "cell_type": "markdown",
   "metadata": {},
   "source": [
    "'''The goal of this task is to build a neural network model that predicts whether an employee will leave the present company or not depending on various factors. Given a dataset containing historical employee information, the model should predict whether a current employee is likely to leave the company. '''"
   ]
  },
  {
   "cell_type": "markdown",
   "metadata": {},
   "source": []
  },
  {
   "cell_type": "code",
   "execution_count": 1,
   "metadata": {},
   "outputs": [
    {
     "ename": "ModuleNotFoundError",
     "evalue": "No module named 'pandas'",
     "output_type": "error",
     "traceback": [
      "\u001b[1;31m---------------------------------------------------------------------------\u001b[0m",
      "\u001b[1;31mModuleNotFoundError\u001b[0m                       Traceback (most recent call last)",
      "Cell \u001b[1;32mIn[1], line 1\u001b[0m\n\u001b[1;32m----> 1\u001b[0m \u001b[38;5;28;01mimport\u001b[39;00m \u001b[38;5;21;01mpandas\u001b[39;00m \u001b[38;5;28;01mas\u001b[39;00m \u001b[38;5;21;01mpd\u001b[39;00m\n\u001b[0;32m      2\u001b[0m \u001b[38;5;28;01mimport\u001b[39;00m \u001b[38;5;21;01mmatplotlib\u001b[39;00m\u001b[38;5;21;01m.\u001b[39;00m\u001b[38;5;21;01mpyplot\u001b[39;00m \u001b[38;5;28;01mas\u001b[39;00m \u001b[38;5;21;01mplt\u001b[39;00m\n\u001b[0;32m      3\u001b[0m \u001b[38;5;28;01mimport\u001b[39;00m \u001b[38;5;21;01mtorch\u001b[39;00m\n",
      "\u001b[1;31mModuleNotFoundError\u001b[0m: No module named 'pandas'"
     ]
    }
   ],
   "source": [
    "import pandas as pd\n",
    "import matplotlib.pyplot as plt\n",
    "import torch\n",
    "import torch.optim as optim\n",
    "from torch.utils.data import TensorDataset, DataLoader\n",
    "import torch.nn as nn\n",
    "task_1a_dataframe=pd.read_csv('task_1a_dataset.csv')\n",
    "task_1a_dataframe.info()"
   ]
  },
  {
   "cell_type": "code",
   "execution_count": null,
   "metadata": {},
   "outputs": [
    {
     "name": "stdout",
     "output_type": "stream",
     "text": [
      "Education                    False\n",
      "JoiningYear                  False\n",
      "City                         False\n",
      "PaymentTier                  False\n",
      "Age                          False\n",
      "Gender                       False\n",
      "EverBenched                  False\n",
      "ExperienceInCurrentDomain    False\n",
      "LeaveOrNot                   False\n",
      "dtype: bool\n"
     ]
    }
   ],
   "source": [
    "missing_values=task_1a_dataframe.isnull()  #To check the prensence of a any missing values\n",
    "print(missing_values.any())"
   ]
  },
  {
   "cell_type": "code",
   "execution_count": null,
   "metadata": {},
   "outputs": [
    {
     "data": {
      "text/html": [
       "<div>\n",
       "<style scoped>\n",
       "    .dataframe tbody tr th:only-of-type {\n",
       "        vertical-align: middle;\n",
       "    }\n",
       "\n",
       "    .dataframe tbody tr th {\n",
       "        vertical-align: top;\n",
       "    }\n",
       "\n",
       "    .dataframe thead th {\n",
       "        text-align: right;\n",
       "    }\n",
       "</style>\n",
       "<table border=\"1\" class=\"dataframe\">\n",
       "  <thead>\n",
       "    <tr style=\"text-align: right;\">\n",
       "      <th></th>\n",
       "      <th>Education</th>\n",
       "      <th>JoiningYear</th>\n",
       "      <th>City</th>\n",
       "      <th>PaymentTier</th>\n",
       "      <th>Age</th>\n",
       "      <th>Gender</th>\n",
       "      <th>EverBenched</th>\n",
       "      <th>ExperienceInCurrentDomain</th>\n",
       "      <th>LeaveOrNot</th>\n",
       "    </tr>\n",
       "  </thead>\n",
       "  <tbody>\n",
       "    <tr>\n",
       "      <th>0</th>\n",
       "      <td>Bachelors</td>\n",
       "      <td>2012</td>\n",
       "      <td>Bangalore</td>\n",
       "      <td>3</td>\n",
       "      <td>37</td>\n",
       "      <td>Male</td>\n",
       "      <td>No</td>\n",
       "      <td>0</td>\n",
       "      <td>0</td>\n",
       "    </tr>\n",
       "    <tr>\n",
       "      <th>1</th>\n",
       "      <td>Masters</td>\n",
       "      <td>2017</td>\n",
       "      <td>New Delhi</td>\n",
       "      <td>2</td>\n",
       "      <td>28</td>\n",
       "      <td>Male</td>\n",
       "      <td>No</td>\n",
       "      <td>4</td>\n",
       "      <td>0</td>\n",
       "    </tr>\n",
       "    <tr>\n",
       "      <th>2</th>\n",
       "      <td>Bachelors</td>\n",
       "      <td>2017</td>\n",
       "      <td>New Delhi</td>\n",
       "      <td>2</td>\n",
       "      <td>36</td>\n",
       "      <td>Male</td>\n",
       "      <td>No</td>\n",
       "      <td>3</td>\n",
       "      <td>0</td>\n",
       "    </tr>\n",
       "    <tr>\n",
       "      <th>3</th>\n",
       "      <td>Bachelors</td>\n",
       "      <td>2015</td>\n",
       "      <td>Bangalore</td>\n",
       "      <td>3</td>\n",
       "      <td>27</td>\n",
       "      <td>Male</td>\n",
       "      <td>Yes</td>\n",
       "      <td>5</td>\n",
       "      <td>0</td>\n",
       "    </tr>\n",
       "    <tr>\n",
       "      <th>4</th>\n",
       "      <td>Bachelors</td>\n",
       "      <td>2017</td>\n",
       "      <td>Bangalore</td>\n",
       "      <td>3</td>\n",
       "      <td>29</td>\n",
       "      <td>Male</td>\n",
       "      <td>No</td>\n",
       "      <td>4</td>\n",
       "      <td>0</td>\n",
       "    </tr>\n",
       "  </tbody>\n",
       "</table>\n",
       "</div>"
      ],
      "text/plain": [
       "   Education  JoiningYear       City  PaymentTier  Age Gender EverBenched  \\\n",
       "0  Bachelors         2012  Bangalore            3   37   Male          No   \n",
       "1    Masters         2017  New Delhi            2   28   Male          No   \n",
       "2  Bachelors         2017  New Delhi            2   36   Male          No   \n",
       "3  Bachelors         2015  Bangalore            3   27   Male         Yes   \n",
       "4  Bachelors         2017  Bangalore            3   29   Male          No   \n",
       "\n",
       "   ExperienceInCurrentDomain  LeaveOrNot  \n",
       "0                          0           0  \n",
       "1                          4           0  \n",
       "2                          3           0  \n",
       "3                          5           0  \n",
       "4                          4           0  "
      ]
     },
     "execution_count": 8,
     "metadata": {},
     "output_type": "execute_result"
    }
   ],
   "source": [
    "task_1a_dataframe.head()"
   ]
  },
  {
   "cell_type": "code",
   "execution_count": 2,
   "metadata": {},
   "outputs": [
    {
     "ename": "NameError",
     "evalue": "name 'pd' is not defined",
     "output_type": "error",
     "traceback": [
      "\u001b[1;31m---------------------------------------------------------------------------\u001b[0m",
      "\u001b[1;31mNameError\u001b[0m                                 Traceback (most recent call last)",
      "Cell \u001b[1;32mIn[2], line 3\u001b[0m\n\u001b[0;32m      1\u001b[0m \u001b[38;5;66;03m#Applying One-hot Enconding\u001b[39;00m\n\u001b[0;32m      2\u001b[0m categorical_columns \u001b[38;5;241m=\u001b[39m [\u001b[38;5;124m'\u001b[39m\u001b[38;5;124mEducation\u001b[39m\u001b[38;5;124m'\u001b[39m, \u001b[38;5;124m'\u001b[39m\u001b[38;5;124mCity\u001b[39m\u001b[38;5;124m'\u001b[39m, \u001b[38;5;124m'\u001b[39m\u001b[38;5;124mPaymentTier\u001b[39m\u001b[38;5;124m'\u001b[39m, \u001b[38;5;124m'\u001b[39m\u001b[38;5;124mGender\u001b[39m\u001b[38;5;124m'\u001b[39m, \u001b[38;5;124m'\u001b[39m\u001b[38;5;124mEverBenched\u001b[39m\u001b[38;5;124m'\u001b[39m]\n\u001b[1;32m----> 3\u001b[0m encoded_dataframe \u001b[38;5;241m=\u001b[39m \u001b[43mpd\u001b[49m\u001b[38;5;241m.\u001b[39mget_dummies(task_1a_dataframe,columns\u001b[38;5;241m=\u001b[39mcategorical_columns,drop_first\u001b[38;5;241m=\u001b[39m\u001b[38;5;28;01mTrue\u001b[39;00m,dtype\u001b[38;5;241m=\u001b[39m\u001b[38;5;28mint\u001b[39m)\n",
      "\u001b[1;31mNameError\u001b[0m: name 'pd' is not defined"
     ]
    }
   ],
   "source": [
    "#Applying One-hot Enconding\n",
    "categorical_columns = ['Education', 'City', 'PaymentTier', 'Gender', 'EverBenched']\n",
    "encoded_dataframe = pd.get_dummies(task_1a_dataframe,columns=categorical_columns,drop_first=True,dtype=int)\n"
   ]
  },
  {
   "cell_type": "code",
   "execution_count": 3,
   "metadata": {},
   "outputs": [
    {
     "ename": "NameError",
     "evalue": "name 'encoded_dataframe' is not defined",
     "output_type": "error",
     "traceback": [
      "\u001b[1;31m---------------------------------------------------------------------------\u001b[0m",
      "\u001b[1;31mNameError\u001b[0m                                 Traceback (most recent call last)",
      "Cell \u001b[1;32mIn[3], line 2\u001b[0m\n\u001b[0;32m      1\u001b[0m \u001b[38;5;66;03m#Identifying the features and target\u001b[39;00m\n\u001b[1;32m----> 2\u001b[0m features \u001b[38;5;241m=\u001b[39m \u001b[43mencoded_dataframe\u001b[49m\u001b[38;5;241m.\u001b[39mcolumns[:\u001b[38;5;241m3\u001b[39m]\u001b[38;5;241m.\u001b[39mtolist()\u001b[38;5;241m+\u001b[39mencoded_dataframe\u001b[38;5;241m.\u001b[39mcolumns[\u001b[38;5;241m4\u001b[39m:]\u001b[38;5;241m.\u001b[39mtolist()\n\u001b[0;32m      3\u001b[0m target_label \u001b[38;5;241m=\u001b[39m encoded_dataframe\u001b[38;5;241m.\u001b[39mcolumns[\u001b[38;5;241m3\u001b[39m]\n\u001b[0;32m      4\u001b[0m features_and_targets \u001b[38;5;241m=\u001b[39m [features, target_label]\n",
      "\u001b[1;31mNameError\u001b[0m: name 'encoded_dataframe' is not defined"
     ]
    }
   ],
   "source": [
    "#Identifying the features and target\n",
    "features = encoded_dataframe.columns[:3].tolist()+encoded_dataframe.columns[4:].tolist()\n",
    "target_label = encoded_dataframe.columns[3]\n",
    "features_and_targets = [features, target_label]"
   ]
  },
  {
   "cell_type": "code",
   "execution_count": 11,
   "metadata": {},
   "outputs": [],
   "source": [
    "#Loading as tensor and Splitting the dataset /Creating the Dataloader object for model processing\n",
    "features, targets = features_and_targets[0], features_and_targets[1]\n",
    "split_ratio = 0.8\n",
    "split_index = int(len(encoded_dataframe[features]) * split_ratio)\n",
    "#Splitting original set into Train and Test set\n",
    "X_train = encoded_dataframe[features][:split_index]\n",
    "X_test = encoded_dataframe[features][split_index:]\n",
    "y_train = encoded_dataframe[targets][:split_index]\n",
    "y_test = encoded_dataframe[targets][split_index:]\n",
    "# Convert training and test data to PyTorch tensors\n",
    "X_train_tensor = torch.tensor(X_train.values, dtype=torch.float32)\n",
    "X_test_tensor = torch.tensor(X_test.values, dtype=torch.float32)\n",
    "y_train_tensor = torch.tensor(y_train.values, dtype=torch.long)\n",
    "y_test_tensor = torch.tensor(y_test.values, dtype=torch.long)\n",
    "train_dataset = TensorDataset(X_train_tensor, y_train_tensor)\n",
    "batch_size = 32\n",
    "# Create DataLoader objects for training and testing data\n",
    "train_loader = DataLoader(train_dataset, batch_size=batch_size, shuffle=True)\n",
    "tensors_and_iterable_training_data=[X_train_tensor,X_test_tensor,y_train_tensor,y_test_tensor,train_loader]\n",
    "\n"
   ]
  },
  {
   "cell_type": "code",
   "execution_count": 17,
   "metadata": {},
   "outputs": [
    {
     "data": {
      "text/plain": [
       "torch.Size([3706, 11])"
      ]
     },
     "execution_count": 17,
     "metadata": {},
     "output_type": "execute_result"
    }
   ],
   "source": [
    "X_train_tensor.shape\n"
   ]
  },
  {
   "cell_type": "code",
   "execution_count": 28,
   "metadata": {},
   "outputs": [],
   "source": [
    "#Neural Network\n",
    "\n",
    "class Salary_Predictor(nn.Module):\n",
    "\tdef __init__(self):\n",
    "\t\tsuper(Salary_Predictor, self).__init__()\n",
    "\t\t'''\n",
    "\t\tDefine the type and number of layers\n",
    "\t\t'''\n",
    "\t\t#######\tADD YOUR CODE HERE\t#######\n",
    "\t\tself.fc1 = nn.Linear(40766,250)  # Fully connected layer 1\n",
    "\t\tself.relu = nn.ReLU()  # Activation function (e.g., ReLU)\n",
    "\t\tself.fc2 = nn.Linear(250,250)  \n",
    "\t\t###################################\t\n",
    "\tdef forward(self, x):\n",
    "\t\t'''\n",
    "\t\tDefine the activation functions\n",
    "\t\t'''\n",
    "\t\t#######\tADD YOUR CODE HERE\t#######\n",
    "\t\tx=self.fc1(x)\n",
    "\t\tx=self.relu(x)\n",
    "\t\tx=self.fc2(x)\n",
    "\t\tpredicted_output=x\n",
    "\t\t###################################\n",
    "\n",
    "\t\treturn predicted_output\n",
    "\t\n",
    "\t"
   ]
  },
  {
   "cell_type": "code",
   "execution_count": 29,
   "metadata": {},
   "outputs": [],
   "source": [
    "loss_function = nn.BCEWithLogitsLoss()\n",
    "model = Salary_Predictor()\n",
    "parameters = model.parameters()\n",
    "optimizer = optim.Adam(parameters, lr=0.001)\n"
   ]
  },
  {
   "cell_type": "code",
   "execution_count": null,
   "metadata": {},
   "outputs": [],
   "source": []
  },
  {
   "cell_type": "markdown",
   "metadata": {},
   "source": [
    "# Variables in python\n",
    "\n",
    "mutable type"
   ]
  },
  {
   "cell_type": "markdown",
   "metadata": {},
   "source": []
  },
  {
   "cell_type": "markdown",
   "metadata": {},
   "source": [
    "l"
   ]
  },
  {
   "cell_type": "code",
   "execution_count": 22,
   "metadata": {},
   "outputs": [
    {
     "name": "stdout",
     "output_type": "stream",
     "text": [
      "numbers are 3, and their counts are: 4\n",
      "numbers are 1, and their counts are: 1\n",
      "numbers are 5, and their counts are: 1\n",
      "numbers are 7, and their counts are: 1\n"
     ]
    }
   ],
   "source": [
    "my_dict ={}\n",
    "li=[3,3,1,5,3,7,3]\n",
    "for i in li:\n",
    "    if i in my_dict:\n",
    "        my_dict[i]+=1\n",
    "    else:\n",
    "        my_dict[i]=1\n",
    "for key, value in my_dict.items():\n",
    "    print(f\"numbers are {key}, and their counts are: {value}\")\n",
    "\n",
    "\n",
    "\n"
   ]
  },
  {
   "cell_type": "code",
   "execution_count": 37,
   "metadata": {},
   "outputs": [
    {
     "name": "stdout",
     "output_type": "stream",
     "text": [
      "0.0\n"
     ]
    }
   ],
   "source": []
  },
  {
   "cell_type": "code",
   "execution_count": null,
   "metadata": {},
   "outputs": [],
   "source": []
  }
 ],
 "metadata": {
  "kernelspec": {
   "display_name": "GG_2568",
   "language": "python",
   "name": "python3"
  },
  "language_info": {
   "codemirror_mode": {
    "name": "ipython",
    "version": 3
   },
   "file_extension": ".py",
   "mimetype": "text/x-python",
   "name": "python",
   "nbconvert_exporter": "python",
   "pygments_lexer": "ipython3",
   "version": "3.12.1"
  },
  "orig_nbformat": 4
 },
 "nbformat": 4,
 "nbformat_minor": 2
}
